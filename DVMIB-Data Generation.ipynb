{
 "cells": [
  {
   "cell_type": "code",
   "execution_count": 3,
   "id": "CJ8_Kzeu7Amv",
   "metadata": {
    "colab": {
     "base_uri": "https://localhost:8080/"
    },
    "id": "CJ8_Kzeu7Amv",
    "outputId": "51fb3947-3642-48fe-cc29-63a0d7bcd95e"
   },
   "outputs": [],
   "source": [
    "# Install libraries if needed\n",
    "# !pip install noise"
   ]
  },
  {
   "cell_type": "code",
   "execution_count": 4,
   "id": "2225b337",
   "metadata": {
    "id": "2225b337"
   },
   "outputs": [],
   "source": [
    "# Import libraries, the code is built on PyTorch\n",
    "import numpy as np\n",
    "import matplotlib.pyplot as plt\n",
    "import random\n",
    "import warnings\n",
    "import torch\n",
    "\n",
    "\n",
    "from torch.utils.data import DataLoader, Dataset\n",
    "from torchvision import transforms\n",
    "from torchvision.datasets import MNIST\n",
    "from noise import pnoise2\n",
    "from itertools import groupby\n",
    "\n",
    "warnings.filterwarnings(\"ignore\")\n",
    "# plt.rcParams[\"font.family\"] = \"serif\"\n",
    "# plt.rcParams[\"font.serif\"] = \"Times New Roman\"\n",
    "# plt.rcParams[\"mathtext.fontset\"] = \"cm\""
   ]
  },
  {
   "cell_type": "code",
   "execution_count": 5,
   "id": "AAzsj4OpSNNL",
   "metadata": {
    "colab": {
     "base_uri": "https://localhost:8080/"
    },
    "id": "AAzsj4OpSNNL",
    "outputId": "64193c48-58e1-417d-a2f4-785203a80183"
   },
   "outputs": [],
   "source": [
    "# Load the MNIST dataset\n",
    "train_dataset = MNIST(root=\"./data\", train=True, download=True, transform=transforms.ToTensor())\n",
    "test_dataset = MNIST(root=\"./data\", train=False, download=True, transform=transforms.ToTensor())\n",
    "# Put them together to manipulate and then split to train, validation, and test at the end\n",
    "data_set = train_dataset + test_dataset"
   ]
  },
  {
   "cell_type": "code",
   "execution_count": 6,
   "id": "-fmQJ_FLqO19",
   "metadata": {
    "id": "-fmQJ_FLqO19"
   },
   "outputs": [],
   "source": [
    "# Define X transformations, we use a random rotation theta between 0 and Pi/2, and a scale factor between 0.5 and 1.5.\n",
    "theta = torch.randint(0,90,(len(data_set),), dtype=torch.float32)\n",
    "scales = torch.rand((len(data_set),), dtype=torch.float32) + 0.5"
   ]
  },
  {
   "cell_type": "code",
   "execution_count": 7,
   "id": "suhGckGAXKG2",
   "metadata": {
    "id": "suhGckGAXKG2"
   },
   "outputs": [],
   "source": [
    "# Define Y transformation, we use a random Perlin correlated noise in 2d with noise_factor between 0 and 1, then generate all the backgrounds in noise.\n",
    "noise_factor = torch.rand((len(data_set),), dtype=torch.float32)\n",
    "noise = torch.Tensor([[[pnoise2(int(j)*noise_factor[i] , int(k)*noise_factor[i] , 1) for j in range(28)] for k in range(28)] for i in range(len(data_set))])"
   ]
  },
  {
   "cell_type": "code",
   "execution_count": 9,
   "id": "Xu1OylWg7gUQ",
   "metadata": {
    "id": "Xu1OylWg7gUQ"
   },
   "outputs": [],
   "source": [
    "# Save the backgrounds with the factors if needed\n",
    "np.save('backgrounds', noise)\n",
    "np.save('noise_factors', noise_factor)\n",
    "\n",
    "# Upload and read the backgrounds with the factors file if you saved it before\n",
    "#bck_file = np.load('backgrounds.npy', allow_pickle=True)\n",
    "#factors_file = np.load('noise_factors.npy', allow_pickle=True)\n",
    "#noise_factor = factors_file\n",
    "#noise = bck_file"
   ]
  },
  {
   "cell_type": "code",
   "execution_count": 10,
   "id": "yKjV4MzUlKfb",
   "metadata": {
    "id": "yKjV4MzUlKfb"
   },
   "outputs": [],
   "source": [
    "# Do the transformation, and assign each to its array\n",
    "X = [transforms.RandomAffine(degrees=int(theta[i]), scale=(scales[i],scales[i]))(data_set[i][0]) for i in range(len(data_set))]\n",
    "Y = [torch.clamp(data_set[i][0]+noise[i,:],0,1) for i in range(len(data_set))]\n",
    "labels = [data_set[i][1] for i in range(len(data_set))]"
   ]
  },
  {
   "cell_type": "code",
   "execution_count": 11,
   "id": "G30kq0B251gs",
   "metadata": {
    "colab": {
     "base_uri": "https://localhost:8080/",
     "height": 472
    },
    "id": "G30kq0B251gs",
    "outputId": "0ddbc497-dd63-45ff-da20-1255e4bd070c"
   },
   "outputs": [
    {
     "data": {
      "image/png": "[encoded data removed]",
      "text/plain": [
       "<Figure size 432x288 with 1 Axes>"
      ]
     },
     "metadata": {
      "needs_background": "light"
     },
     "output_type": "display_data"
    }
   ],
   "source": [
    "# Calculating the correlation between all the pairs of images of X and Y\n",
    "cor_XY = [np.corrcoef(X[i].reshape(28*28),Y[i].reshape(28*28))[0][1] for i in range(len(data_set))]\n",
    "\n",
    "# Plot the correlations\n",
    "plt.hist(cor_XY, bins=200);\n",
    "plt.xlabel('Correlation')\n",
    "plt.title('Probabilty distribution of the correlation between the two views after different transformations');"
   ]
  },
  {
   "cell_type": "code",
   "execution_count": 12,
   "id": "Qpp_nOPtSNUu",
   "metadata": {
    "id": "Qpp_nOPtSNUu"
   },
   "outputs": [],
   "source": [
    "# Create a function to plot X and Y pairs side by side\n",
    "def plot_samples1(dataset_X, dataset_Y, label, num_samples=5):\n",
    "    plt.figure(figsize=(num_samples*3, 5))\n",
    "    for i in range(num_samples):\n",
    "        idx = random.randint(0, len(dataset_X) - 1)\n",
    "        x = dataset_X[idx]\n",
    "        y = dataset_Y[idx]\n",
    "\n",
    "        x_np = x.numpy().squeeze(0)\n",
    "        y_np = y.numpy().squeeze(0)\n",
    "\n",
    "        plt.subplot(2, num_samples, i + 1)\n",
    "        plt.title('True = '+str(label[idx])+', Corr = '+str(np.round(np.corrcoef(x.reshape(28*28),y.reshape(28*28))[0][1],2)))\n",
    "        plt.imshow(x_np, cmap=\"gray\")\n",
    "        plt.axis(\"off\")\n",
    "\n",
    "        plt.subplot(2, num_samples, num_samples + i + 1)\n",
    "        plt.imshow(y_np, cmap=\"gray\")\n",
    "        plt.axis(\"off\")\n",
    "\n",
    "    plt.show()"
   ]
  },
  {
   "cell_type": "code",
   "execution_count": 13,
   "id": "zfbGOCwkUc67",
   "metadata": {
    "colab": {
     "base_uri": "https://localhost:8080/",
     "height": 373
    },
    "id": "zfbGOCwkUc67",
    "outputId": "fe5c829a-a022-43b9-aa8c-79dabbc3d98c"
   },
   "outputs": [
    {
     "data": {
      "image/png": "[encoded data removed]",
      "text/plain": [
       "<Figure size 1296x360 with 12 Axes>"
      ]
     },
     "metadata": {
      "needs_background": "light"
     },
     "output_type": "display_data"
    }
   ],
   "source": [
    "# Plot a few instances of X and Y pairs side by side\n",
    "plot_samples1(X, Y, labels, 6)"
   ]
  },
  {
   "cell_type": "code",
   "execution_count": 16,
   "id": "lZ4LqrCLUc9V",
   "metadata": {
    "id": "lZ4LqrCLUc9V"
   },
   "outputs": [],
   "source": [
    "# Split into training, validation, and testing, while maintaing the statstics\n",
    "# Flatten the data to be ready for training after\n",
    "X = [X[i].reshape(28*28) for i in range(len(data_set))]\n",
    "Y = [Y[i].reshape(28*28) for i in range(len(data_set))]\n",
    "\n",
    "# Create dictionaries to group data by labels\n",
    "data_by_label = {label: [] for label in set(labels)}\n",
    "\n",
    "# Use itertools.groupby to group by label in temp_x and temp_y\n",
    "temp_x = {label: list(group) for label, group in groupby(\n",
    "    sorted([[labels[i], theta[i], scales[i], X[i]] for i in range(len(data_set))], key=lambda x: x[0]), key=lambda x: x[0])}\n",
    "temp_y = {label: list(group) for label, group in groupby(\n",
    "    sorted([[labels[i], noise_factor[i], Y[i]] for i in range(len(data_set))], key=lambda x: x[0]), key=lambda x: x[0])}\n",
    "\n",
    "# Shuffle whithin each group with the same label\n",
    "for label, group in temp_x.items():\n",
    "    random.shuffle(group)\n",
    "\n",
    "for label, group in temp_y.items():\n",
    "    random.shuffle(group)\n",
    "\n",
    "# Concatenate the shuffled groups to get the final shuffled list for the views X and Y\n",
    "temp_x = [elem for label in range(10) for elem in temp_x[label]]\n",
    "temp_y = [elem for label in range(10) for elem in temp_y[label]]\n",
    "\n",
    "for i, label in enumerate(labels):\n",
    "    data_by_label[label].append((temp_x[i][3], temp_y[i][2], temp_x[i][0], temp_x[i][1], temp_x[i][2], temp_y[i][1]))\n",
    "    # data_by_label[label].append((X[i], Y[i], label, theta[i], scales[i], noise_factor[i]))\n",
    "\n",
    "# Define the proportion for each subset\n",
    "train_ratio = 0.8\n",
    "test_ratio = 0.1\n",
    "validation_ratio = 0.1\n",
    "\n",
    "# Initialize lists for each subset\n",
    "train_set, test_set, validation_set = [], [], []\n",
    "\n",
    "# Split data by labels into subsets\n",
    "for label, data_list in data_by_label.items():\n",
    "    random.shuffle(data_list)\n",
    "    total_samples = len(data_list)\n",
    "\n",
    "    train_size = int(total_samples * train_ratio)\n",
    "    test_size = int(total_samples * test_ratio)\n",
    "\n",
    "    train_set.extend(data_list[:train_size])\n",
    "    test_set.extend(data_list[train_size:train_size + test_size])\n",
    "    validation_set.extend(data_list[train_size + test_size:])\n",
    "\n",
    "# Shuffle the subsets to ensure randomness\n",
    "random.shuffle(train_set)\n",
    "random.shuffle(test_set)\n",
    "random.shuffle(validation_set)\n",
    "\n",
    "# Extract X, Y, labels, theta, scale and noise factor for each subset, if regenerating\n",
    "tr_X, tr_Y, tr_labels, tr_theta, tr_scale, tr_noise = zip(*train_set)\n",
    "ts_X, ts_Y, ts_labels, ts_theta, ts_scale, ts_noise = zip(*test_set)\n",
    "val_X, val_Y, val_labels, val_theta, val_scale, val_noise = zip(*validation_set)"
   ]
  },
  {
   "cell_type": "code",
   "execution_count": 17,
   "id": "aaa83b66",
   "metadata": {},
   "outputs": [],
   "source": [
    "# Create a dictionary to store the datasets\n",
    "data_dict = {\n",
    "    'train_X': np.array(tr_X),\n",
    "    'train_Y': np.array(tr_Y),\n",
    "    'train_labels': np.array(tr_labels),\n",
    "    'train_theta': np.array(tr_theta),\n",
    "    'train_scale': np.array(tr_scale),\n",
    "    'train_noise': np.array(tr_noise),\n",
    "    'test_X': np.array(ts_X),\n",
    "    'test_Y': np.array(ts_Y),\n",
    "    'test_labels': np.array(ts_labels),\n",
    "    'test_theta': np.array(ts_theta),\n",
    "    'test_scale': np.array(ts_scale),\n",
    "    'test_noise': np.array(ts_noise),\n",
    "    'validation_X': np.array(val_X),\n",
    "    'validation_Y': np.array(val_Y),\n",
    "    'validation_labels': np.array(val_labels),\n",
    "    'validation_theta': np.array(val_theta),\n",
    "    'validation_scale': np.array(val_scale),\n",
    "    'validation_noise': np.array(val_noise)\n",
    "}\n",
    "\n",
    "# Save the dictionary to a file\n",
    "np.savez('data.npz', **data_dict)\n"
   ]
  },
  {
   "cell_type": "code",
   "execution_count": 18,
   "id": "e143004b",
   "metadata": {},
   "outputs": [],
   "source": [
    "# Create a dictionary to store the datasets\n",
    "data_dict_params = {\n",
    "    'theta': theta,\n",
    "    'scales': scales,\n",
    "    'noise_factor': noise_factor,\n",
    "}\n",
    "\n",
    "# Save the dictionary to a file\n",
    "np.savez('noisy_params.npz', **data_dict_params)\n"
   ]
  },
  {
   "cell_type": "code",
   "execution_count": 18,
   "id": "ecb1e13d",
   "metadata": {},
   "outputs": [],
   "source": [
    "# # Load the dictionary from the file\n",
    "# loaded_data = np.load('data.npz', allow_pickle=True)\n",
    "\n",
    "# # Assign datasets to variables\n",
    "# tr_X = loaded_data['train_X']\n",
    "# tr_Y = loaded_data['train_Y']\n",
    "# tr_labels = loaded_data['train_labels']\n",
    "# tr_theta = loaded_data['train_theta']\n",
    "# tr_scale = loaded_data['train_scale']\n",
    "# tr_noise = loaded_data['train_noise']\n",
    "\n",
    "# ts_X = loaded_data['test_X']\n",
    "# ts_Y = loaded_data['test_Y']\n",
    "# ts_labels = loaded_data['test_labels']\n",
    "# ts_theta = loaded_data['test_theta']\n",
    "# ts_scale = loaded_data['test_scale']\n",
    "# ts_noise = loaded_data['test_noise']\n",
    "\n",
    "# val_X = loaded_data['validation_X']\n",
    "# val_Y = loaded_data['validation_Y']\n",
    "# val_labels = loaded_data['validation_labels']\n",
    "# val_theta = loaded_data['validation_theta']\n",
    "# val_scale = loaded_data['validation_scale']\n",
    "# val_noise = loaded_data['validation_noise']"
   ]
  },
  {
   "cell_type": "code",
   "execution_count": null,
   "id": "25fa03e2",
   "metadata": {},
   "outputs": [],
   "source": [
    "# # Load the dictionary from the file\n",
    "# loaded_data_params = np.load('noisy_params.npz', allow_pickle=True)\n",
    "\n",
    "# # Assign datasets to variables\n",
    "# theta = loaded_data_params['theta']\n",
    "# scales = loaded_data_params['scales']\n",
    "# noise_factor = loaded_data_params['noise_factor']"
   ]
  },
  {
   "cell_type": "code",
   "execution_count": 19,
   "id": "76V-9Ig5NCML",
   "metadata": {
    "id": "76V-9Ig5NCML"
   },
   "outputs": [],
   "source": [
    "# Create a function to plot X and Y pairs side by side\n",
    "def plot_samples2(dataset_X, dataset_Y, label, num_samples=5):\n",
    "    plt.figure(figsize=(num_samples*3, 5))\n",
    "    for i in range(num_samples):\n",
    "        idx = random.randint(0, len(dataset_X) - 1)\n",
    "        x = dataset_X[idx]\n",
    "        y = dataset_Y[idx]\n",
    "\n",
    "        x_np = x.reshape(28,28)\n",
    "        y_np = y.reshape(28,28)\n",
    "\n",
    "        plt.subplot(2, num_samples, i + 1)\n",
    "        plt.title('True = '+str(label[idx])+', Corr = '+str(np.round(np.corrcoef(x.reshape(28*28),y.reshape(28*28))[0][1],2)))\n",
    "        plt.imshow(x_np.reshape(28,28), cmap=\"gray\")\n",
    "        plt.axis(\"off\")\n",
    "\n",
    "        plt.subplot(2, num_samples, num_samples + i + 1)\n",
    "        plt.imshow(y_np.reshape(28,28), cmap=\"gray\")\n",
    "        plt.axis(\"off\")\n",
    "\n",
    "    plt.show()"
   ]
  },
  {
   "cell_type": "code",
   "execution_count": 23,
   "id": "eyxvtQvgMyyE",
   "metadata": {
    "colab": {
     "base_uri": "https://localhost:8080/",
     "height": 372
    },
    "id": "eyxvtQvgMyyE",
    "outputId": "dba431b2-4c16-4fa5-dc86-afc3b5fb3047"
   },
   "outputs": [
    {
     "data": {
      "image/png": "[encoded data removed]",
      "text/plain": [
       "<Figure size 1296x360 with 12 Axes>"
      ]
     },
     "metadata": {
      "needs_background": "light"
     },
     "output_type": "display_data"
    }
   ],
   "source": [
    "# Plot a few instances of X and Y pairs side by side\n",
    "plot_samples2(tr_X, tr_Y, tr_labels, 6)"
   ]
  },
  {
   "cell_type": "code",
   "execution_count": null,
   "id": "1df5a37b",
   "metadata": {},
   "outputs": [],
   "source": []
  }
 ],
 "metadata": {
  "accelerator": "GPU",
  "colab": {
   "gpuType": "T4",
   "provenance": []
  },
  "kernelspec": {
   "display_name": "Python [conda env:torchEnv]",
   "language": "python",
   "name": "conda-env-torchEnv-py"
  },
  "language_info": {
   "codemirror_mode": {
    "name": "ipython",
    "version": 3
   },
   "file_extension": ".py",
   "mimetype": "text/x-python",
   "name": "python",
   "nbconvert_exporter": "python",
   "pygments_lexer": "ipython3",
   "version": "3.9.7"
  }
 },
 "nbformat": 4,
 "nbformat_minor": 5
}
